{
  "nbformat": 4,
  "nbformat_minor": 0,
  "metadata": {
    "colab": {
      "name": "Questions - Internal - R9 - AIML Labs.ipynb",
      "provenance": [],
      "collapsed_sections": [],
      "toc_visible": true
    },
    "kernelspec": {
      "name": "python3",
      "display_name": "Python 3"
    }
  },
  "cells": [
    {
      "cell_type": "markdown",
      "metadata": {
        "id": "vXE926qT0jHg",
        "colab_type": "text"
      },
      "source": [
        "# Time series prediction using LSTM"
      ]
    },
    {
      "cell_type": "markdown",
      "metadata": {
        "id": "54u8ql4Z4kBE",
        "colab_type": "text"
      },
      "source": [
        "## Dataset\n",
        "- Daily minimum temperatures in Melbourne, Australia, 1981-1990\n",
        "- Units: Degrees Celcius"
      ]
    },
    {
      "cell_type": "markdown",
      "metadata": {
        "id": "IPkYyOzY77yl",
        "colab_type": "text"
      },
      "source": [
        "## Question 1"
      ]
    },
    {
      "cell_type": "markdown",
      "metadata": {
        "id": "aXEOY69f8B9d",
        "colab_type": "text"
      },
      "source": [
        "### Load the data\n",
        "- load daily-minimum-temperatures-in-me.csv"
      ]
    },
    {
      "cell_type": "code",
      "metadata": {
        "id": "1Yvcuhqz0m23",
        "colab_type": "code",
        "colab": {}
      },
      "source": [
        "import pandas as pd "
      ],
      "execution_count": 0,
      "outputs": []
    },
    {
      "cell_type": "code",
      "metadata": {
        "id": "0F2CqUtYHoLO",
        "colab_type": "code",
        "colab": {
          "base_uri": "https://localhost:8080/",
          "height": 121
        },
        "outputId": "02bcc176-fb85-4bec-9e90-6a85fc5921d2"
      },
      "source": [
        "from google.colab import drive\n",
        "drive.mount('/content/drive')"
      ],
      "execution_count": 2,
      "outputs": [
        {
          "output_type": "stream",
          "text": [
            "Go to this URL in a browser: https://accounts.google.com/o/oauth2/auth?client_id=947318989803-6bn6qk8qdgf4n4g3pfee6491hc0brc4i.apps.googleusercontent.com&redirect_uri=urn%3Aietf%3Awg%3Aoauth%3A2.0%3Aoob&scope=email%20https%3A%2F%2Fwww.googleapis.com%2Fauth%2Fdocs.test%20https%3A%2F%2Fwww.googleapis.com%2Fauth%2Fdrive%20https%3A%2F%2Fwww.googleapis.com%2Fauth%2Fdrive.photos.readonly%20https%3A%2F%2Fwww.googleapis.com%2Fauth%2Fpeopleapi.readonly&response_type=code\n",
            "\n",
            "Enter your authorization code:\n",
            "··········\n",
            "Mounted at /content/drive\n"
          ],
          "name": "stdout"
        }
      ]
    },
    {
      "cell_type": "markdown",
      "metadata": {
        "id": "pWcMgg69-T6k",
        "colab_type": "text"
      },
      "source": [
        "### Print the data\n",
        "- First 5 rows only"
      ]
    },
    {
      "cell_type": "code",
      "metadata": {
        "id": "SM828gT_-Ra2",
        "colab_type": "code",
        "colab": {}
      },
      "source": [
        "df = pd.read_csv(\"/content/drive/My Drive/daily-minimum-temperatures-in-me.csv\")"
      ],
      "execution_count": 0,
      "outputs": []
    },
    {
      "cell_type": "code",
      "metadata": {
        "id": "R1XupdCyIhZi",
        "colab_type": "code",
        "colab": {
          "base_uri": "https://localhost:8080/",
          "height": 195
        },
        "outputId": "fef90b2f-31ef-4597-d36c-87d66044d277"
      },
      "source": [
        "df.head()"
      ],
      "execution_count": 18,
      "outputs": [
        {
          "output_type": "execute_result",
          "data": {
            "text/html": [
              "<div>\n",
              "<style scoped>\n",
              "    .dataframe tbody tr th:only-of-type {\n",
              "        vertical-align: middle;\n",
              "    }\n",
              "\n",
              "    .dataframe tbody tr th {\n",
              "        vertical-align: top;\n",
              "    }\n",
              "\n",
              "    .dataframe thead th {\n",
              "        text-align: right;\n",
              "    }\n",
              "</style>\n",
              "<table border=\"1\" class=\"dataframe\">\n",
              "  <thead>\n",
              "    <tr style=\"text-align: right;\">\n",
              "      <th></th>\n",
              "      <th>Date</th>\n",
              "      <th>Temperature</th>\n",
              "    </tr>\n",
              "  </thead>\n",
              "  <tbody>\n",
              "    <tr>\n",
              "      <th>0</th>\n",
              "      <td>1981-01-01</td>\n",
              "      <td>20.7</td>\n",
              "    </tr>\n",
              "    <tr>\n",
              "      <th>1</th>\n",
              "      <td>1981-01-02</td>\n",
              "      <td>17.9</td>\n",
              "    </tr>\n",
              "    <tr>\n",
              "      <th>2</th>\n",
              "      <td>1981-01-03</td>\n",
              "      <td>18.8</td>\n",
              "    </tr>\n",
              "    <tr>\n",
              "      <th>3</th>\n",
              "      <td>1981-01-04</td>\n",
              "      <td>14.6</td>\n",
              "    </tr>\n",
              "    <tr>\n",
              "      <th>4</th>\n",
              "      <td>1981-01-05</td>\n",
              "      <td>15.8</td>\n",
              "    </tr>\n",
              "  </tbody>\n",
              "</table>\n",
              "</div>"
            ],
            "text/plain": [
              "         Date  Temperature\n",
              "0  1981-01-01         20.7\n",
              "1  1981-01-02         17.9\n",
              "2  1981-01-03         18.8\n",
              "3  1981-01-04         14.6\n",
              "4  1981-01-05         15.8"
            ]
          },
          "metadata": {
            "tags": []
          },
          "execution_count": 18
        }
      ]
    },
    {
      "cell_type": "code",
      "metadata": {
        "id": "R24Ih2zrJTap",
        "colab_type": "code",
        "colab": {
          "base_uri": "https://localhost:8080/",
          "height": 34
        },
        "outputId": "7ddeaaf1-376e-4da4-8f79-f7b320519524"
      },
      "source": [
        "df.shape"
      ],
      "execution_count": 19,
      "outputs": [
        {
          "output_type": "execute_result",
          "data": {
            "text/plain": [
              "(3650, 2)"
            ]
          },
          "metadata": {
            "tags": []
          },
          "execution_count": 19
        }
      ]
    },
    {
      "cell_type": "markdown",
      "metadata": {
        "id": "JGnWESz9BKx8",
        "colab_type": "text"
      },
      "source": [
        "### Set index column\n",
        "- Set the DataFrame index using \"Date\" column"
      ]
    },
    {
      "cell_type": "code",
      "metadata": {
        "id": "VWqs4KVHIgjb",
        "colab_type": "code",
        "colab": {}
      },
      "source": [
        "df.index = df.Date"
      ],
      "execution_count": 0,
      "outputs": []
    },
    {
      "cell_type": "code",
      "metadata": {
        "id": "nFrbd_vd-eZP",
        "colab_type": "code",
        "colab": {}
      },
      "source": [
        "df = df.drop(['Date'],axis =1)"
      ],
      "execution_count": 0,
      "outputs": []
    },
    {
      "cell_type": "code",
      "metadata": {
        "id": "21WADP1yI_xf",
        "colab_type": "code",
        "colab": {
          "base_uri": "https://localhost:8080/",
          "height": 225
        },
        "outputId": "5ebd228f-07a2-4fff-8e3d-5d676d6ea135"
      },
      "source": [
        "df.head()"
      ],
      "execution_count": 22,
      "outputs": [
        {
          "output_type": "execute_result",
          "data": {
            "text/html": [
              "<div>\n",
              "<style scoped>\n",
              "    .dataframe tbody tr th:only-of-type {\n",
              "        vertical-align: middle;\n",
              "    }\n",
              "\n",
              "    .dataframe tbody tr th {\n",
              "        vertical-align: top;\n",
              "    }\n",
              "\n",
              "    .dataframe thead th {\n",
              "        text-align: right;\n",
              "    }\n",
              "</style>\n",
              "<table border=\"1\" class=\"dataframe\">\n",
              "  <thead>\n",
              "    <tr style=\"text-align: right;\">\n",
              "      <th></th>\n",
              "      <th>Temperature</th>\n",
              "    </tr>\n",
              "    <tr>\n",
              "      <th>Date</th>\n",
              "      <th></th>\n",
              "    </tr>\n",
              "  </thead>\n",
              "  <tbody>\n",
              "    <tr>\n",
              "      <th>1981-01-01</th>\n",
              "      <td>20.7</td>\n",
              "    </tr>\n",
              "    <tr>\n",
              "      <th>1981-01-02</th>\n",
              "      <td>17.9</td>\n",
              "    </tr>\n",
              "    <tr>\n",
              "      <th>1981-01-03</th>\n",
              "      <td>18.8</td>\n",
              "    </tr>\n",
              "    <tr>\n",
              "      <th>1981-01-04</th>\n",
              "      <td>14.6</td>\n",
              "    </tr>\n",
              "    <tr>\n",
              "      <th>1981-01-05</th>\n",
              "      <td>15.8</td>\n",
              "    </tr>\n",
              "  </tbody>\n",
              "</table>\n",
              "</div>"
            ],
            "text/plain": [
              "            Temperature\n",
              "Date                   \n",
              "1981-01-01         20.7\n",
              "1981-01-02         17.9\n",
              "1981-01-03         18.8\n",
              "1981-01-04         14.6\n",
              "1981-01-05         15.8"
            ]
          },
          "metadata": {
            "tags": []
          },
          "execution_count": 22
        }
      ]
    },
    {
      "cell_type": "markdown",
      "metadata": {
        "id": "sS7IVXq7B1P1",
        "colab_type": "text"
      },
      "source": [
        "## Question 2"
      ]
    },
    {
      "cell_type": "markdown",
      "metadata": {
        "id": "PcgAOybZCc5-",
        "colab_type": "text"
      },
      "source": [
        "### Check the total count of null values in the data"
      ]
    },
    {
      "cell_type": "code",
      "metadata": {
        "id": "UTMe5jdCCj4k",
        "colab_type": "code",
        "colab": {
          "base_uri": "https://localhost:8080/",
          "height": 50
        },
        "outputId": "2e578195-585b-47a9-ab60-602508f10062"
      },
      "source": [
        "df.isnull().sum()"
      ],
      "execution_count": 23,
      "outputs": [
        {
          "output_type": "execute_result",
          "data": {
            "text/plain": [
              "Temperature    0\n",
              "dtype: int64"
            ]
          },
          "metadata": {
            "tags": []
          },
          "execution_count": 23
        }
      ]
    },
    {
      "cell_type": "markdown",
      "metadata": {
        "id": "Ua-AeW2YC3kY",
        "colab_type": "text"
      },
      "source": [
        "### Drop all the rows with null values\n",
        "- use dropna() method"
      ]
    },
    {
      "cell_type": "code",
      "metadata": {
        "id": "9l9UeA6YC8RV",
        "colab_type": "code",
        "colab": {}
      },
      "source": [
        "df = df.dropna()"
      ],
      "execution_count": 0,
      "outputs": []
    },
    {
      "cell_type": "code",
      "metadata": {
        "id": "jcZ16vlmJQuc",
        "colab_type": "code",
        "colab": {
          "base_uri": "https://localhost:8080/",
          "height": 34
        },
        "outputId": "c04eb5ff-f24a-473f-d03f-93cfc5b35453"
      },
      "source": [
        "df.shape"
      ],
      "execution_count": 25,
      "outputs": [
        {
          "output_type": "execute_result",
          "data": {
            "text/plain": [
              "(3650, 1)"
            ]
          },
          "metadata": {
            "tags": []
          },
          "execution_count": 25
        }
      ]
    },
    {
      "cell_type": "markdown",
      "metadata": {
        "id": "SJam5Ho-DHK7",
        "colab_type": "text"
      },
      "source": [
        "## Question 3"
      ]
    },
    {
      "cell_type": "markdown",
      "metadata": {
        "id": "3esUPJAMDzCJ",
        "colab_type": "text"
      },
      "source": [
        "### Describe your dataframe\n",
        "- use describe() method"
      ]
    },
    {
      "cell_type": "code",
      "metadata": {
        "id": "uhH8OwGVELyH",
        "colab_type": "code",
        "colab": {
          "base_uri": "https://localhost:8080/",
          "height": 284
        },
        "outputId": "9ad09a5e-3aff-4b3e-bcbf-70e154ef1b22"
      },
      "source": [
        "df.describe()"
      ],
      "execution_count": 26,
      "outputs": [
        {
          "output_type": "execute_result",
          "data": {
            "text/html": [
              "<div>\n",
              "<style scoped>\n",
              "    .dataframe tbody tr th:only-of-type {\n",
              "        vertical-align: middle;\n",
              "    }\n",
              "\n",
              "    .dataframe tbody tr th {\n",
              "        vertical-align: top;\n",
              "    }\n",
              "\n",
              "    .dataframe thead th {\n",
              "        text-align: right;\n",
              "    }\n",
              "</style>\n",
              "<table border=\"1\" class=\"dataframe\">\n",
              "  <thead>\n",
              "    <tr style=\"text-align: right;\">\n",
              "      <th></th>\n",
              "      <th>Temperature</th>\n",
              "    </tr>\n",
              "  </thead>\n",
              "  <tbody>\n",
              "    <tr>\n",
              "      <th>count</th>\n",
              "      <td>3650.000000</td>\n",
              "    </tr>\n",
              "    <tr>\n",
              "      <th>mean</th>\n",
              "      <td>11.177753</td>\n",
              "    </tr>\n",
              "    <tr>\n",
              "      <th>std</th>\n",
              "      <td>4.071837</td>\n",
              "    </tr>\n",
              "    <tr>\n",
              "      <th>min</th>\n",
              "      <td>0.000000</td>\n",
              "    </tr>\n",
              "    <tr>\n",
              "      <th>25%</th>\n",
              "      <td>8.300000</td>\n",
              "    </tr>\n",
              "    <tr>\n",
              "      <th>50%</th>\n",
              "      <td>11.000000</td>\n",
              "    </tr>\n",
              "    <tr>\n",
              "      <th>75%</th>\n",
              "      <td>14.000000</td>\n",
              "    </tr>\n",
              "    <tr>\n",
              "      <th>max</th>\n",
              "      <td>26.300000</td>\n",
              "    </tr>\n",
              "  </tbody>\n",
              "</table>\n",
              "</div>"
            ],
            "text/plain": [
              "       Temperature\n",
              "count  3650.000000\n",
              "mean     11.177753\n",
              "std       4.071837\n",
              "min       0.000000\n",
              "25%       8.300000\n",
              "50%      11.000000\n",
              "75%      14.000000\n",
              "max      26.300000"
            ]
          },
          "metadata": {
            "tags": []
          },
          "execution_count": 26
        }
      ]
    },
    {
      "cell_type": "markdown",
      "metadata": {
        "id": "bizrToFMB4ix",
        "colab_type": "text"
      },
      "source": [
        "### Plot the dataframe\n",
        "- use plot() method"
      ]
    },
    {
      "cell_type": "code",
      "metadata": {
        "id": "rNiXK6YZB30N",
        "colab_type": "code",
        "colab": {
          "base_uri": "https://localhost:8080/",
          "height": 300
        },
        "outputId": "fcf2c9ed-54df-4390-9237-c72708153c7a"
      },
      "source": [
        "df.plot()"
      ],
      "execution_count": 27,
      "outputs": [
        {
          "output_type": "execute_result",
          "data": {
            "text/plain": [
              "<matplotlib.axes._subplots.AxesSubplot at 0x7f27350847b8>"
            ]
          },
          "metadata": {
            "tags": []
          },
          "execution_count": 27
        },
        {
          "output_type": "display_data",
          "data": {
            "image/png": "[encoded data removed]",
            "text/plain": [
              "<Figure size 432x288 with 1 Axes>"
            ]
          },
          "metadata": {
            "tags": []
          }
        }
      ]
    },
    {
      "cell_type": "markdown",
      "metadata": {
        "id": "OtI9ZGJqE1lh",
        "colab_type": "text"
      },
      "source": [
        "### Get representation of the distribution of data using histogram\n",
        "- use hist() method"
      ]
    },
    {
      "cell_type": "code",
      "metadata": {
        "id": "qan611HdE9nR",
        "colab_type": "code",
        "colab": {
          "base_uri": "https://localhost:8080/",
          "height": 314
        },
        "outputId": "0aedfb89-65f9-4894-f6af-201ae2b8d0e6"
      },
      "source": [
        "df.hist()"
      ],
      "execution_count": 28,
      "outputs": [
        {
          "output_type": "execute_result",
          "data": {
            "text/plain": [
              "array([[<matplotlib.axes._subplots.AxesSubplot object at 0x7f2734fa40f0>]],\n",
              "      dtype=object)"
            ]
          },
          "metadata": {
            "tags": []
          },
          "execution_count": 28
        },
        {
          "output_type": "display_data",
          "data": {
            "image/png": "[encoded data removed]",
            "text/plain": [
              "<Figure size 432x288 with 1 Axes>"
            ]
          },
          "metadata": {
            "tags": []
          }
        }
      ]
    },
    {
      "cell_type": "markdown",
      "metadata": {
        "id": "D8VDVRisHAsH",
        "colab_type": "text"
      },
      "source": [
        "### Check minimum and maximum temperature\n",
        "- use min() and max() methods"
      ]
    },
    {
      "cell_type": "code",
      "metadata": {
        "id": "xlwlVtRfG_qX",
        "colab_type": "code",
        "colab": {
          "base_uri": "https://localhost:8080/",
          "height": 34
        },
        "outputId": "8628c683-9784-4b44-ed2f-df8cd9ba907d"
      },
      "source": [
        "df.Temperature.min()"
      ],
      "execution_count": 29,
      "outputs": [
        {
          "output_type": "execute_result",
          "data": {
            "text/plain": [
              "0.0"
            ]
          },
          "metadata": {
            "tags": []
          },
          "execution_count": 29
        }
      ]
    },
    {
      "cell_type": "code",
      "metadata": {
        "id": "abO5iWWAFFCJ",
        "colab_type": "code",
        "colab": {
          "base_uri": "https://localhost:8080/",
          "height": 34
        },
        "outputId": "3b1280ee-ed32-4202-9928-3fcecbd88bfe"
      },
      "source": [
        "df.Temperature.max()"
      ],
      "execution_count": 30,
      "outputs": [
        {
          "output_type": "execute_result",
          "data": {
            "text/plain": [
              "26.3"
            ]
          },
          "metadata": {
            "tags": []
          },
          "execution_count": 30
        }
      ]
    },
    {
      "cell_type": "markdown",
      "metadata": {
        "id": "qTjD3zhSI_BD",
        "colab_type": "text"
      },
      "source": [
        "## Question 4"
      ]
    },
    {
      "cell_type": "markdown",
      "metadata": {
        "id": "eEgBn5JkKwrZ",
        "colab_type": "text"
      },
      "source": [
        "### Normalize the data\n",
        "- normalize temperature values using MinMaxScaler\n",
        "- feature_range: 0-1\n",
        "- fit MinMaxScaler on train data and transform it\n",
        "  - use fit_transform() method\n",
        "- transform test data using MinMaxScaler object\n",
        "  - use transform() method"
      ]
    },
    {
      "cell_type": "code",
      "metadata": {
        "id": "dbrspzBVM6Gg",
        "colab_type": "code",
        "colab": {}
      },
      "source": [
        "rows = df.shape[0]\n",
        "from sklearn.preprocessing import MinMaxScaler\n",
        "import numpy as np"
      ],
      "execution_count": 0,
      "outputs": []
    },
    {
      "cell_type": "code",
      "metadata": {
        "id": "rH0ByZNAOYTW",
        "colab_type": "code",
        "colab": {}
      },
      "source": [
        "scaler = MinMaxScaler(feature_range=(0, 1))\n",
        "scaled = scaler.fit_transform(df)"
      ],
      "execution_count": 0,
      "outputs": []
    },
    {
      "cell_type": "code",
      "metadata": {
        "id": "S3aT8-msOYWo",
        "colab_type": "code",
        "colab": {
          "base_uri": "https://localhost:8080/",
          "height": 50
        },
        "outputId": "9c3ecd48-54d6-4d61-b273-b04d144fae75"
      },
      "source": [
        "print('Min', np.min(scaled))\n",
        "print('Max', np.max(scaled))"
      ],
      "execution_count": 49,
      "outputs": [
        {
          "output_type": "stream",
          "text": [
            "Min 0.0\n",
            "Max 1.0\n"
          ],
          "name": "stdout"
        }
      ]
    },
    {
      "cell_type": "code",
      "metadata": {
        "id": "sYfHbkv6OYQy",
        "colab_type": "code",
        "colab": {
          "base_uri": "https://localhost:8080/",
          "height": 185
        },
        "outputId": "c4cc3e56-619c-433e-e7bb-c4cdc8db7100"
      },
      "source": [
        "print(scaled[:10])"
      ],
      "execution_count": 50,
      "outputs": [
        {
          "output_type": "stream",
          "text": [
            "[[0.78707224]\n",
            " [0.68060837]\n",
            " [0.7148289 ]\n",
            " [0.55513308]\n",
            " [0.60076046]\n",
            " [0.60076046]\n",
            " [0.60076046]\n",
            " [0.66159696]\n",
            " [0.82889734]\n",
            " [0.76045627]]\n"
          ],
          "name": "stdout"
        }
      ]
    },
    {
      "cell_type": "markdown",
      "metadata": {
        "id": "QSDmmRxBMOO7",
        "colab_type": "text"
      },
      "source": [
        "### Split the dataset into training and testing\n",
        "- training data: 75%\n",
        "- testing data: 25%"
      ]
    },
    {
      "cell_type": "code",
      "metadata": {
        "id": "xSwfC2o5LJNU",
        "colab_type": "code",
        "colab": {
          "base_uri": "https://localhost:8080/",
          "height": 50
        },
        "outputId": "96585cd2-3c5c-4be2-bdbb-294fc3a9eb5b"
      },
      "source": [
        "#Create the model\n",
        "train_size = int(len(scaled) * 0.75)\n",
        "test_size = len(scaled - train_size)\n",
        "train, test = scaled[0:train_size, :], scaled[train_size: len(scaled), :]\n",
        "print('train: {}\\ntest: {}'.format(len(train), len(test)))\n"
      ],
      "execution_count": 52,
      "outputs": [
        {
          "output_type": "stream",
          "text": [
            "train: 2737\n",
            "test: 913\n"
          ],
          "name": "stdout"
        }
      ]
    },
    {
      "cell_type": "markdown",
      "metadata": {
        "id": "4HjbO8gRQ3M1",
        "colab_type": "text"
      },
      "source": [
        "### Print scaled train and test data\n",
        "- print only first 5 values"
      ]
    },
    {
      "cell_type": "code",
      "metadata": {
        "id": "U_WDZwKxRBRx",
        "colab_type": "code",
        "colab": {
          "base_uri": "https://localhost:8080/",
          "height": 185
        },
        "outputId": "567729e0-a840-4a42-f24b-288f3155cff6"
      },
      "source": [
        "train[:10]"
      ],
      "execution_count": 54,
      "outputs": [
        {
          "output_type": "execute_result",
          "data": {
            "text/plain": [
              "array([[0.78707224],\n",
              "       [0.68060837],\n",
              "       [0.7148289 ],\n",
              "       [0.55513308],\n",
              "       [0.60076046],\n",
              "       [0.60076046],\n",
              "       [0.60076046],\n",
              "       [0.66159696],\n",
              "       [0.82889734],\n",
              "       [0.76045627]])"
            ]
          },
          "metadata": {
            "tags": []
          },
          "execution_count": 54
        }
      ]
    },
    {
      "cell_type": "code",
      "metadata": {
        "id": "vYlwALHrRGcX",
        "colab_type": "code",
        "colab": {
          "base_uri": "https://localhost:8080/",
          "height": 185
        },
        "outputId": "32808ccc-5f6f-45d6-e8e8-85c4f4ede600"
      },
      "source": [
        "test[:10]"
      ],
      "execution_count": 55,
      "outputs": [
        {
          "output_type": "execute_result",
          "data": {
            "text/plain": [
              "array([[0.22813688],\n",
              "       [0.22053232],\n",
              "       [0.18631179],\n",
              "       [0.19011407],\n",
              "       [0.31939163],\n",
              "       [0.46768061],\n",
              "       [0.49429658],\n",
              "       [0.43346008],\n",
              "       [0.25855513],\n",
              "       [0.28897338]])"
            ]
          },
          "metadata": {
            "tags": []
          },
          "execution_count": 55
        }
      ]
    },
    {
      "cell_type": "markdown",
      "metadata": {
        "id": "JB5lHp94RQWY",
        "colab_type": "text"
      },
      "source": [
        "## Question 5"
      ]
    },
    {
      "cell_type": "markdown",
      "metadata": {
        "id": "kVqNUf00RSiv",
        "colab_type": "text"
      },
      "source": [
        "### Create sequential data\n",
        "Map the temperature at a particular day 'd' to the temperature at day t\n",
        "'d+n', where n is any number you define.\n",
        "\n",
        "For example: to map temperatures of consecutive days, use d+1, i.e. lookback = 1\n",
        "- Below function takes data as input and returns sequential data.\n",
        "- X as features and y as labels"
      ]
    },
    {
      "cell_type": "code",
      "metadata": {
        "id": "AtxhXruAWws-",
        "colab_type": "code",
        "colab": {}
      },
      "source": [
        "import numpy as np\n",
        "def create_seq_data(data, lookback=1):\n",
        "  X, y = list(), list()\n",
        "  \n",
        "  for day in range((len(data)-lookback)):\n",
        "    X.append(data[day: day+lookback, 0])\n",
        "    y.append(data[day+lookback, 0])\n",
        "  return np.array(X), np.array(y)"
      ],
      "execution_count": 0,
      "outputs": []
    },
    {
      "cell_type": "markdown",
      "metadata": {
        "id": "VMBJpuDQJzcG",
        "colab_type": "text"
      },
      "source": [
        "### Use the above function to create train and test sets\n",
        "- Get X_train and y_train\n",
        "- Get X_test and y_test\n",
        "- lookback = 1"
      ]
    },
    {
      "cell_type": "code",
      "metadata": {
        "id": "Uq6GGmJ0Zqem",
        "colab_type": "code",
        "colab": {}
      },
      "source": [
        "look_back = 1\n",
        "X_train, y_train = create_seq_data(train, look_back)\n",
        "X_test, y_test = create_seq_data(test, look_back)"
      ],
      "execution_count": 0,
      "outputs": []
    },
    {
      "cell_type": "code",
      "metadata": {
        "id": "qZTnxMbtQq4d",
        "colab_type": "code",
        "colab": {
          "base_uri": "https://localhost:8080/",
          "height": 134
        },
        "outputId": "3e0adc48-38ac-485c-ef13-29721b0eb197"
      },
      "source": [
        "print(X_train, y_train)"
      ],
      "execution_count": 59,
      "outputs": [
        {
          "output_type": "stream",
          "text": [
            "[[0.78707224]\n",
            " [0.68060837]\n",
            " [0.7148289 ]\n",
            " ...\n",
            " [0.38022814]\n",
            " [0.25475285]\n",
            " [0.35741445]] [0.68060837 0.7148289  0.55513308 ... 0.25475285 0.35741445 0.35361217]\n"
          ],
          "name": "stdout"
        }
      ]
    },
    {
      "cell_type": "code",
      "metadata": {
        "id": "X3qhXEqoZxQ3",
        "colab_type": "code",
        "colab": {
          "base_uri": "https://localhost:8080/",
          "height": 50
        },
        "outputId": "04a2c1d7-9628-45e3-b80d-48cc4c6bfc5e"
      },
      "source": [
        "X_train = np.reshape(X_train, (X_train.shape[0], X_train.shape[1], 1))\n",
        "X_test = np.reshape(X_test, (X_test.shape[0], X_test.shape[1], 1))\n"
      ],
      "execution_count": 64,
      "outputs": [
        {
          "output_type": "stream",
          "text": [
            "(2736, 1, 1)\n",
            "(912, 1, 1)\n"
          ],
          "name": "stdout"
        }
      ]
    },
    {
      "cell_type": "markdown",
      "metadata": {
        "id": "zKZ8SALZcuNB",
        "colab_type": "text"
      },
      "source": [
        "### Print shape of data\n",
        "- print shape of X_train and X_test"
      ]
    },
    {
      "cell_type": "code",
      "metadata": {
        "id": "OSg_rbP6c_HI",
        "colab_type": "code",
        "colab": {
          "base_uri": "https://localhost:8080/",
          "height": 50
        },
        "outputId": "45d028e5-5d48-48f9-b4bb-adf91011e3da"
      },
      "source": [
        "print(X_train.shape)\n",
        "print(X_test.shape)"
      ],
      "execution_count": 65,
      "outputs": [
        {
          "output_type": "stream",
          "text": [
            "(2736, 1, 1)\n",
            "(912, 1, 1)\n"
          ],
          "name": "stdout"
        }
      ]
    },
    {
      "cell_type": "markdown",
      "metadata": {
        "id": "emGjaYZ5dfRq",
        "colab_type": "text"
      },
      "source": [
        "## Question 6"
      ]
    },
    {
      "cell_type": "markdown",
      "metadata": {
        "id": "7fk2Ze24dsXw",
        "colab_type": "text"
      },
      "source": [
        "### Define sequential model\n",
        "- initialize a Sequential model\n",
        "- add an LSTM layer\n",
        "  - units: 10\n",
        "  - stateful: True\n",
        "  - pass a `batch_input_shape` argument to your layer\n",
        "  - batch_input_shape: (batch_size, look_back, 1)\n",
        "    - batch_size: 1\n",
        "    - look_back: 1\n",
        "- add Dense layer with 1 neuron"
      ]
    },
    {
      "cell_type": "code",
      "metadata": {
        "id": "eXU6UNt4dhJz",
        "colab_type": "code",
        "colab": {}
      },
      "source": [
        "from keras.models import Sequential\n",
        "from sklearn.preprocessing import MinMaxScaler\n",
        "from keras.models import Sequential\n",
        "from keras.layers import GRU, Dense\n",
        "from keras.layers import LSTM\n",
        "from keras  import callbacks\n",
        "from keras import optimizers\n",
        "\n",
        "#The network has a visible layer with 1 input, a hidden layer with 4 LSTM blocks or neurons, and an output layer that makes a single value prediction. The default sigmoid activation function is used for the LSTM blocks. The network is trained for 100 epochs and a batch size of 1 is used.\n",
        "#create and fit the LSTM network\n",
        "batch_size = 1\n",
        "model = Sequential()\n",
        "model.add(LSTM(4, batch_input_shape=(batch_size, look_back, 1), stateful=True))\n",
        "model.add(Dense(1))"
      ],
      "execution_count": 0,
      "outputs": []
    },
    {
      "cell_type": "markdown",
      "metadata": {
        "id": "cLymvPFzEQSp",
        "colab_type": "text"
      },
      "source": [
        "## Question 7"
      ]
    },
    {
      "cell_type": "markdown",
      "metadata": {
        "id": "AZmlvbcMrCTh",
        "colab_type": "text"
      },
      "source": [
        "### compile your model\n",
        "- loss: mean_squared_error\n",
        "- optimizer: adam"
      ]
    },
    {
      "cell_type": "code",
      "metadata": {
        "id": "TrcHrSdtg62Q",
        "colab_type": "code",
        "colab": {}
      },
      "source": [
        "model.compile(loss='mean_squared_error', optimizer='adam')"
      ],
      "execution_count": 0,
      "outputs": []
    },
    {
      "cell_type": "markdown",
      "metadata": {
        "id": "WWAoHdFurJN5",
        "colab_type": "text"
      },
      "source": [
        "### summarize your model\n",
        "- use summary() method"
      ]
    },
    {
      "cell_type": "code",
      "metadata": {
        "id": "UlIaCMtBrPU2",
        "colab_type": "code",
        "colab": {
          "base_uri": "https://localhost:8080/",
          "height": 218
        },
        "outputId": "b935b720-8b41-4028-8cd0-68d1fbaa7c5d"
      },
      "source": [
        "model.summary()"
      ],
      "execution_count": 72,
      "outputs": [
        {
          "output_type": "stream",
          "text": [
            "Model: \"sequential_4\"\n",
            "_________________________________________________________________\n",
            "Layer (type)                 Output Shape              Param #   \n",
            "=================================================================\n",
            "lstm_3 (LSTM)                (1, 4)                    96        \n",
            "_________________________________________________________________\n",
            "dense_3 (Dense)              (1, 1)                    5         \n",
            "=================================================================\n",
            "Total params: 101\n",
            "Trainable params: 101\n",
            "Non-trainable params: 0\n",
            "_________________________________________________________________\n"
          ],
          "name": "stdout"
        }
      ]
    },
    {
      "cell_type": "markdown",
      "metadata": {
        "id": "dq5a3i6uEcJI",
        "colab_type": "text"
      },
      "source": [
        "## Question 8"
      ]
    },
    {
      "cell_type": "markdown",
      "metadata": {
        "id": "0Ca3CFhOrf83",
        "colab_type": "text"
      },
      "source": [
        "### fit your model\n",
        "- epochs: 50\n",
        "- batch_size: 1"
      ]
    },
    {
      "cell_type": "code",
      "metadata": {
        "id": "BbuB-XGPhH6h",
        "colab_type": "code",
        "colab": {
          "base_uri": "https://localhost:8080/",
          "height": 1000
        },
        "outputId": "02fdc51a-5eb3-48ea-e512-f319ebbbf96f"
      },
      "source": [
        "model.fit(X_train, y_train, epochs=50, batch_size=batch_size, verbose=2, shuffle=True)"
      ],
      "execution_count": 73,
      "outputs": [
        {
          "output_type": "stream",
          "text": [
            "Epoch 1/50\n",
            " - 5s - loss: 0.0239\n",
            "Epoch 2/50\n",
            " - 4s - loss: 0.0122\n",
            "Epoch 3/50\n",
            " - 4s - loss: 0.0106\n",
            "Epoch 4/50\n",
            " - 4s - loss: 0.0102\n",
            "Epoch 5/50\n",
            " - 4s - loss: 0.0102\n",
            "Epoch 6/50\n",
            " - 4s - loss: 0.0102\n",
            "Epoch 7/50\n",
            " - 4s - loss: 0.0100\n",
            "Epoch 8/50\n",
            " - 4s - loss: 0.0101\n",
            "Epoch 9/50\n",
            " - 4s - loss: 0.0101\n",
            "Epoch 10/50\n",
            " - 4s - loss: 0.0100\n",
            "Epoch 11/50\n",
            " - 4s - loss: 0.0100\n",
            "Epoch 12/50\n",
            " - 4s - loss: 0.0100\n",
            "Epoch 13/50\n",
            " - 4s - loss: 0.0100\n",
            "Epoch 14/50\n",
            " - 4s - loss: 0.0101\n",
            "Epoch 15/50\n",
            " - 4s - loss: 0.0100\n",
            "Epoch 16/50\n",
            " - 4s - loss: 0.0100\n",
            "Epoch 17/50\n",
            " - 4s - loss: 0.0101\n",
            "Epoch 18/50\n",
            " - 4s - loss: 0.0100\n",
            "Epoch 19/50\n",
            " - 4s - loss: 0.0100\n",
            "Epoch 20/50\n",
            " - 4s - loss: 0.0100\n",
            "Epoch 21/50\n",
            " - 4s - loss: 0.0101\n",
            "Epoch 22/50\n",
            " - 4s - loss: 0.0100\n",
            "Epoch 23/50\n",
            " - 4s - loss: 0.0100\n",
            "Epoch 24/50\n",
            " - 4s - loss: 0.0101\n",
            "Epoch 25/50\n",
            " - 4s - loss: 0.0100\n",
            "Epoch 26/50\n",
            " - 4s - loss: 0.0100\n",
            "Epoch 27/50\n",
            " - 4s - loss: 0.0100\n",
            "Epoch 28/50\n",
            " - 4s - loss: 0.0100\n",
            "Epoch 29/50\n",
            " - 4s - loss: 0.0099\n",
            "Epoch 30/50\n",
            " - 4s - loss: 0.0099\n",
            "Epoch 31/50\n",
            " - 4s - loss: 0.0100\n",
            "Epoch 32/50\n",
            " - 4s - loss: 0.0100\n",
            "Epoch 33/50\n",
            " - 4s - loss: 0.0099\n",
            "Epoch 34/50\n",
            " - 4s - loss: 0.0100\n",
            "Epoch 35/50\n",
            " - 4s - loss: 0.0099\n",
            "Epoch 36/50\n",
            " - 4s - loss: 0.0099\n",
            "Epoch 37/50\n",
            " - 4s - loss: 0.0100\n",
            "Epoch 38/50\n",
            " - 4s - loss: 0.0100\n",
            "Epoch 39/50\n",
            " - 4s - loss: 0.0099\n",
            "Epoch 40/50\n",
            " - 4s - loss: 0.0100\n",
            "Epoch 41/50\n",
            " - 4s - loss: 0.0099\n",
            "Epoch 42/50\n",
            " - 4s - loss: 0.0100\n",
            "Epoch 43/50\n",
            " - 4s - loss: 0.0100\n",
            "Epoch 44/50\n",
            " - 4s - loss: 0.0100\n",
            "Epoch 45/50\n",
            " - 4s - loss: 0.0099\n",
            "Epoch 46/50\n",
            " - 4s - loss: 0.0099\n",
            "Epoch 47/50\n",
            " - 4s - loss: 0.0099\n",
            "Epoch 48/50\n",
            " - 4s - loss: 0.0099\n",
            "Epoch 49/50\n",
            " - 4s - loss: 0.0099\n",
            "Epoch 50/50\n",
            " - 4s - loss: 0.0099\n"
          ],
          "name": "stdout"
        },
        {
          "output_type": "execute_result",
          "data": {
            "text/plain": [
              "<keras.callbacks.History at 0x7f270e553f98>"
            ]
          },
          "metadata": {
            "tags": []
          },
          "execution_count": 73
        }
      ]
    },
    {
      "cell_type": "markdown",
      "metadata": {
        "id": "hqRlEmbjEqyG",
        "colab_type": "text"
      },
      "source": [
        "## Question 9"
      ]
    },
    {
      "cell_type": "markdown",
      "metadata": {
        "id": "12IhOtvUHJBF",
        "colab_type": "text"
      },
      "source": [
        "### make predictions on train data\n",
        "- use predict() method\n",
        "  - batch_size: 1\n",
        "- store predictions in a variable"
      ]
    },
    {
      "cell_type": "code",
      "metadata": {
        "id": "iXWuJikQHURm",
        "colab_type": "code",
        "colab": {}
      },
      "source": [
        "import math\n",
        "from sklearn.metrics import mean_squared_error\n",
        "\n",
        "trainPredict = model.predict(X_train, batch_size=batch_size)"
      ],
      "execution_count": 0,
      "outputs": []
    },
    {
      "cell_type": "markdown",
      "metadata": {
        "id": "XxxWOa-PsieH",
        "colab_type": "text"
      },
      "source": [
        "### reset model state\n",
        "- if you are using stateful=True in your model then you should call reset_states every time, when you want to make consecutive model calls independent.\n",
        "- use reset_states() method"
      ]
    },
    {
      "cell_type": "code",
      "metadata": {
        "id": "ZdV5_F1Eo8SY",
        "colab_type": "code",
        "colab": {}
      },
      "source": [
        "model.reset_states()"
      ],
      "execution_count": 0,
      "outputs": []
    },
    {
      "cell_type": "markdown",
      "metadata": {
        "colab_type": "text",
        "id": "KAhziPVBJD0u"
      },
      "source": [
        "### make predictions on test data\n",
        "- use predict() method\n",
        "  - batch_size: 1\n",
        "- store predictions in a variable"
      ]
    },
    {
      "cell_type": "code",
      "metadata": {
        "id": "HuHopEXNJU_y",
        "colab_type": "code",
        "colab": {}
      },
      "source": [
        "testPredict = model.predict(X_test, batch_size=batch_size)"
      ],
      "execution_count": 0,
      "outputs": []
    },
    {
      "cell_type": "markdown",
      "metadata": {
        "id": "pO81E-fsJruD",
        "colab_type": "text"
      },
      "source": [
        "## Question 10"
      ]
    },
    {
      "cell_type": "markdown",
      "metadata": {
        "id": "RImBG7sCtnlb",
        "colab_type": "text"
      },
      "source": [
        "### Inverse train predictions and true labels\n",
        "- use your MinMaxSclarer object\n",
        "- use inverse_transform() method"
      ]
    },
    {
      "cell_type": "code",
      "metadata": {
        "id": "xXfce41cqN-h",
        "colab_type": "code",
        "colab": {}
      },
      "source": [
        "# invert predictions\n",
        "trainPredict = scaler.inverse_transform(trainPredict)\n",
        "y_train = scaler.inverse_transform([y_train])"
      ],
      "execution_count": 0,
      "outputs": []
    },
    {
      "cell_type": "markdown",
      "metadata": {
        "colab_type": "text",
        "id": "5fWSzk8cuPbp"
      },
      "source": [
        "### Inverse test predictions and true labels\n",
        "- use your MinMaxSclarer object\n",
        "- use inverse_transform() method"
      ]
    },
    {
      "cell_type": "code",
      "metadata": {
        "colab_type": "code",
        "id": "nVJ1wMupuPbu",
        "colab": {}
      },
      "source": [
        "testPredict = scaler.inverse_transform(testPredict)\n",
        "y_test = scaler.inverse_transform([y_test])"
      ],
      "execution_count": 0,
      "outputs": []
    },
    {
      "cell_type": "markdown",
      "metadata": {
        "id": "VtowvAItJv6c",
        "colab_type": "text"
      },
      "source": [
        "### Evaluate train predictions\n",
        "- calculate RMSE\n",
        "- RMSE = sqrt(mean_squared_error(true_labels, predicted_labels))\n",
        "- use sqrt() and mean_squared_error() method\n",
        "- print training RMSE"
      ]
    },
    {
      "cell_type": "code",
      "metadata": {
        "id": "GjXbis_bJ9GL",
        "colab_type": "code",
        "colab": {
          "base_uri": "https://localhost:8080/",
          "height": 34
        },
        "outputId": "b3a588b0-9222-4888-f59a-5f6c4b1237c5"
      },
      "source": [
        "# calculate root mean squared error\n",
        "trainScore = math.sqrt(mean_squared_error(y_train[0], trainPredict[:,0]))\n",
        "print('Train Score: %.2f RMSE' % (trainScore))"
      ],
      "execution_count": 79,
      "outputs": [
        {
          "output_type": "stream",
          "text": [
            "Train Score: 2.61 RMSE\n"
          ],
          "name": "stdout"
        }
      ]
    },
    {
      "cell_type": "code",
      "metadata": {
        "id": "pLb65-QiqMDX",
        "colab_type": "code",
        "colab": {}
      },
      "source": [
        ""
      ],
      "execution_count": 0,
      "outputs": []
    },
    {
      "cell_type": "markdown",
      "metadata": {
        "colab_type": "text",
        "id": "DBOfSPRDvERE"
      },
      "source": [
        "### Evaluate test predictions\n",
        "- calculate RMSE\n",
        "- RMSE = sqrt(mean_squared_error(true_labels, predicted_labels))\n",
        "- use sqrt() and mean_squared_error() method\n",
        "- print testing RMSE"
      ]
    },
    {
      "cell_type": "code",
      "metadata": {
        "colab_type": "code",
        "id": "8rQOereovERJ",
        "colab": {
          "base_uri": "https://localhost:8080/",
          "height": 34
        },
        "outputId": "17c436cf-edaa-4b91-8812-fba57d4c8ffc"
      },
      "source": [
        "testScore = math.sqrt(mean_squared_error(y_test[0], testPredict[:,0]))\n",
        "print('Test Score: %.2f RMSE' % (testScore))"
      ],
      "execution_count": 80,
      "outputs": [
        {
          "output_type": "stream",
          "text": [
            "Test Score: 2.54 RMSE\n"
          ],
          "name": "stdout"
        }
      ]
    },
    {
      "cell_type": "code",
      "metadata": {
        "colab_type": "code",
        "id": "8DhUsMnvvERT",
        "colab": {}
      },
      "source": [
        ""
      ],
      "execution_count": 0,
      "outputs": []
    },
    {
      "cell_type": "code",
      "metadata": {
        "id": "PAnzxOyoy5Bj",
        "colab_type": "code",
        "colab": {}
      },
      "source": [
        ""
      ],
      "execution_count": 0,
      "outputs": []
    }
  ]
}