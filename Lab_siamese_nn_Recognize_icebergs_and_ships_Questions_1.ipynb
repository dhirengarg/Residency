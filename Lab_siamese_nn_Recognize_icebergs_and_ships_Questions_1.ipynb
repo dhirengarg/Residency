{
  "nbformat": 4,
  "nbformat_minor": 0,
  "metadata": {
    "kernelspec": {
      "display_name": "Python 3",
      "language": "python",
      "name": "python3"
    },
    "language_info": {
      "codemirror_mode": {
        "name": "ipython",
        "version": 3
      },
      "file_extension": ".py",
      "mimetype": "text/x-python",
      "name": "python",
      "nbconvert_exporter": "python",
      "pygments_lexer": "ipython3",
      "version": "3.6.8"
    },
    "colab": {
      "name": "Lab-siamese-nn-Recognize icebergs and ships-Questions-1.ipynb",
      "provenance": [],
      "toc_visible": true
    }
  },
  "cells": [
    {
      "cell_type": "markdown",
      "metadata": {
        "_cell_guid": "608e43e3-8699-4299-9d18-9e9a6a3dd9bf",
        "_uuid": "434ffd54c774edd4e8b851ab0a4b6675425e46da",
        "id": "2UCp72whwenJ",
        "colab_type": "text"
      },
      "source": [
        "# Siamese Neural Networks\n",
        "Recognize images of icebergs from images of ships. \n",
        "These images were taken from space with a Sentinel-4 satellite. The goal was to create the most accurate neural network to differentiate them. However, neural networks usually only work well with A LOT of data, and I constrained you guys to 1000 examples to train on. That seems like a lot, but a CONVENTIONAL neural network needs more data. However, we are going to make a special kind of neural network: *Siamese Network*. This special network is used for face recognition and few-shot learning(learning from few examples). Let's get started by importing the usual liraries:"
      ]
    },
    {
      "cell_type": "code",
      "metadata": {
        "_cell_guid": "b1076dfc-b9ad-4769-8c92-a6c4dae69d19",
        "_uuid": "8f2839f25d086af736a60e9eeb907d3b93b6e0e5",
        "id": "Pc_yH7QpwenL",
        "colab_type": "code",
        "colab": {
          "base_uri": "https://localhost:8080/",
          "height": 79
        },
        "outputId": "621cdbcd-aa78-43ca-ce0c-1418dfad0fb8"
      },
      "source": [
        "from keras.layers import Input, Conv2D, Lambda, merge, Dense, Flatten,MaxPooling2D,Activation, Dropout\n",
        "from keras.models import Model, Sequential\n",
        "from keras.regularizers import l2\n",
        "from keras import backend as K\n",
        "from keras.optimizers import Adam\n",
        "from skimage.io import imshow\n",
        "import matplotlib.pyplot as plt\n",
        "import numpy as np\n",
        "import pandas as pd\n",
        "import random"
      ],
      "execution_count": 1,
      "outputs": [
        {
          "output_type": "stream",
          "text": [
            "Using TensorFlow backend.\n"
          ],
          "name": "stderr"
        },
        {
          "output_type": "display_data",
          "data": {
            "text/html": [
              "<p style=\"color: red;\">\n",
              "The default version of TensorFlow in Colab will soon switch to TensorFlow 2.x.<br>\n",
              "We recommend you <a href=\"https://www.tensorflow.org/guide/migrate\" target=\"_blank\">upgrade</a> now \n",
              "or ensure your notebook will continue to use TensorFlow 1.x via the <code>%tensorflow_version 1.x</code> magic:\n",
              "<a href=\"https://colab.research.google.com/notebooks/tensorflow_version.ipynb\" target=\"_blank\">more info</a>.</p>\n"
            ],
            "text/plain": [
              "<IPython.core.display.HTML object>"
            ]
          },
          "metadata": {
            "tags": []
          }
        }
      ]
    },
    {
      "cell_type": "code",
      "metadata": {
        "id": "9zPpE9DpAdCs",
        "colab_type": "code",
        "colab": {
          "base_uri": "https://localhost:8080/",
          "height": 121
        },
        "outputId": "64c8e467-8686-46e4-ab6d-163532b0b1e3"
      },
      "source": [
        "from google.colab import drive\n",
        "drive.mount('/content/drive/')"
      ],
      "execution_count": 3,
      "outputs": [
        {
          "output_type": "stream",
          "text": [
            "Go to this URL in a browser: https://accounts.google.com/o/oauth2/auth?client_id=947318989803-6bn6qk8qdgf4n4g3pfee6491hc0brc4i.apps.googleusercontent.com&redirect_uri=urn%3aietf%3awg%3aoauth%3a2.0%3aoob&response_type=code&scope=email%20https%3a%2f%2fwww.googleapis.com%2fauth%2fdocs.test%20https%3a%2f%2fwww.googleapis.com%2fauth%2fdrive%20https%3a%2f%2fwww.googleapis.com%2fauth%2fdrive.photos.readonly%20https%3a%2f%2fwww.googleapis.com%2fauth%2fpeopleapi.readonly\n",
            "\n",
            "Enter your authorization code:\n",
            "··········\n",
            "Mounted at /content/drive/\n"
          ],
          "name": "stdout"
        }
      ]
    },
    {
      "cell_type": "code",
      "metadata": {
        "id": "FdsquuEfA9nF",
        "colab_type": "code",
        "colab": {}
      },
      "source": [
        ""
      ],
      "execution_count": 0,
      "outputs": []
    },
    {
      "cell_type": "markdown",
      "metadata": {
        "_cell_guid": "adbffb0a-1784-4595-b3f2-2ea930abc31f",
        "_uuid": "b9200b733a896e4b6f261122fe9134c00955cc91",
        "id": "tpgM8rKBwenN",
        "colab_type": "text"
      },
      "source": [
        "## Load the Data\n"
      ]
    },
    {
      "cell_type": "code",
      "metadata": {
        "_cell_guid": "79c7e3d0-c299-4dcb-8224-4455121ee9b0",
        "_uuid": "d629ff2d2480ee46fbb7e2d37f6b5fab8052498a",
        "id": "f7JxtcCBwenO",
        "colab_type": "code",
        "colab": {
          "base_uri": "https://localhost:8080/",
          "height": 34
        },
        "outputId": "b93cc571-1715-480d-9b24-077108223ad6"
      },
      "source": [
        "npz = np.load('/content/drive/My Drive/input_data.npz')\n",
        "X_train = npz['X_train']\n",
        "Y_train = npz['Y_train']\n",
        "del npz\n",
        "print ('We have {} examples to work with'.format(Y_train.shape[0]-1000))"
      ],
      "execution_count": 5,
      "outputs": [
        {
          "output_type": "stream",
          "text": [
            "We have 3113 examples to work with\n"
          ],
          "name": "stdout"
        }
      ]
    },
    {
      "cell_type": "markdown",
      "metadata": {
        "_cell_guid": "ed28bc84-1a8a-472f-98ae-9553fe6d1097",
        "_uuid": "b2e2306b8b16ae7f4f9b63249d1f2ff6e29559d3",
        "id": "yhVL_UcUwenQ",
        "colab_type": "text"
      },
      "source": [
        "## Check the data\n",
        "\n",
        "Load some of the images to observe how your data look like."
      ]
    },
    {
      "cell_type": "code",
      "metadata": {
        "id": "ZcNBbmsUwenR",
        "colab_type": "code",
        "colab": {
          "base_uri": "https://localhost:8080/",
          "height": 34
        },
        "outputId": "98656422-2899-4771-e21d-77dbf788fa73"
      },
      "source": [
        "X_train.shape"
      ],
      "execution_count": 6,
      "outputs": [
        {
          "output_type": "execute_result",
          "data": {
            "text/plain": [
              "(4113, 75, 75, 3)"
            ]
          },
          "metadata": {
            "tags": []
          },
          "execution_count": 6
        }
      ]
    },
    {
      "cell_type": "code",
      "metadata": {
        "id": "F9cUsTS5CIRz",
        "colab_type": "code",
        "colab": {
          "base_uri": "https://localhost:8080/",
          "height": 34
        },
        "outputId": "5d0828fd-af51-47ff-9efe-2176b6b43a70"
      },
      "source": [
        "Y_train.shape"
      ],
      "execution_count": 13,
      "outputs": [
        {
          "output_type": "execute_result",
          "data": {
            "text/plain": [
              "(4113,)"
            ]
          },
          "metadata": {
            "tags": []
          },
          "execution_count": 13
        }
      ]
    },
    {
      "cell_type": "code",
      "metadata": {
        "id": "eEDe-BWtCOPa",
        "colab_type": "code",
        "colab": {
          "base_uri": "https://localhost:8080/",
          "height": 34
        },
        "outputId": "3d82e2e0-f7e4-4517-9aec-a20c3f84b092"
      },
      "source": [
        "Y_train[0]"
      ],
      "execution_count": 14,
      "outputs": [
        {
          "output_type": "execute_result",
          "data": {
            "text/plain": [
              "0"
            ]
          },
          "metadata": {
            "tags": []
          },
          "execution_count": 14
        }
      ]
    },
    {
      "cell_type": "code",
      "metadata": {
        "id": "YuM3bwWhCWRC",
        "colab_type": "code",
        "colab": {
          "base_uri": "https://localhost:8080/",
          "height": 34
        },
        "outputId": "36f1f37e-3b80-4ac6-a498-419ce71ab74d"
      },
      "source": [
        "set(Y_train)\n",
        "labels = ['Ship','Iceberg']"
      ],
      "execution_count": 17,
      "outputs": [
        {
          "output_type": "execute_result",
          "data": {
            "text/plain": [
              "{0, 1}"
            ]
          },
          "metadata": {
            "tags": []
          },
          "execution_count": 17
        }
      ]
    },
    {
      "cell_type": "code",
      "metadata": {
        "id": "krxoAkbpBZtx",
        "colab_type": "code",
        "colab": {
          "base_uri": "https://localhost:8080/",
          "height": 314
        },
        "outputId": "8e27d76d-a9de-419d-f379-e27e3f0861bb"
      },
      "source": [
        "im = 3000\n",
        "\n",
        "imshow(X_train[im,:,:,2])###### Looking at the combined channel\n",
        "plt.show()\n",
        "Y_train[im]\n",
        "print ('This is:',labels[int(Y_train[im])])"
      ],
      "execution_count": 26,
      "outputs": [
        {
          "output_type": "display_data",
          "data": {
            "image/png": "[encoded data removed]",
            "text/plain": [
              "<Figure size 432x288 with 2 Axes>"
            ]
          },
          "metadata": {
            "tags": []
          }
        },
        {
          "output_type": "stream",
          "text": [
            "This is: Ship\n"
          ],
          "name": "stdout"
        }
      ]
    },
    {
      "cell_type": "markdown",
      "metadata": {
        "id": "8rNI5s-2wenT",
        "colab_type": "text"
      },
      "source": [
        "# Creating the structure of Siamese Network"
      ]
    },
    {
      "cell_type": "markdown",
      "metadata": {
        "id": "hmZUofKNwenT",
        "colab_type": "raw"
      },
      "source": [
        "You just need to break it into some steps:\n",
        "1. 2 Inputs for each images\n",
        "2. Creating a network which both images will go through individually\n",
        "3. Couple the network to each input\n",
        "4. Calculate the L1 distance between them. Just (x1,y1)-(x2,y2)\n",
        "5. 1 Added layer that will say 1 if they are the same and 0 if they are different"
      ]
    },
    {
      "cell_type": "markdown",
      "metadata": {
        "id": "0YesXhhzwenU",
        "colab_type": "text"
      },
      "source": [
        "# Create two Inputs for each image - left_input and right_input\n",
        "Hint - use Input Function in Keras and keep the shape to be 75,75,3"
      ]
    },
    {
      "cell_type": "code",
      "metadata": {
        "id": "Cz46WEY7wenU",
        "colab_type": "code",
        "colab": {
          "base_uri": "https://localhost:8080/",
          "height": 104
        },
        "outputId": "f33fb2c2-97b6-4dd3-f0d9-7d7116a8ac32"
      },
      "source": [
        "left_input = Input((75,75,3))\n",
        "right_input = Input((75,75,3))"
      ],
      "execution_count": 27,
      "outputs": [
        {
          "output_type": "stream",
          "text": [
            "WARNING:tensorflow:From /usr/local/lib/python3.6/dist-packages/keras/backend/tensorflow_backend.py:66: The name tf.get_default_graph is deprecated. Please use tf.compat.v1.get_default_graph instead.\n",
            "\n",
            "WARNING:tensorflow:From /usr/local/lib/python3.6/dist-packages/keras/backend/tensorflow_backend.py:541: The name tf.placeholder is deprecated. Please use tf.compat.v1.placeholder instead.\n",
            "\n"
          ],
          "name": "stdout"
        }
      ]
    },
    {
      "cell_type": "markdown",
      "metadata": {
        "id": "TgT_fB3BwenW",
        "colab_type": "text"
      },
      "source": [
        "# Create a base Network in which both images will go through individually.\n",
        "\n",
        "Hint - Use Sequential Model in Keras with convolution layers, Maxpooling Layers, Flatten Layer and Denser Layer with appropriate activation functions.\n",
        "Name the network as base_network"
      ]
    },
    {
      "cell_type": "code",
      "metadata": {
        "id": "yEGGqX6PwenX",
        "colab_type": "code",
        "colab": {}
      },
      "source": [
        "# using 10 filters in 1st convolutions \n",
        "\n",
        "base_network = Sequential([\n",
        "    Conv2D(10,3, input_shape=(75,75,3)),\n",
        "    Activation('relu'),\n",
        "    MaxPooling2D(),\n",
        "    Conv2D(10,3),\n",
        "    Activation('relu'),\n",
        "    MaxPooling2D(),\n",
        "    Conv2D(7,3),\n",
        "    Activation('relu'),\n",
        "    MaxPooling2D(),\n",
        "    Conv2D(7,3),\n",
        "    Activation('relu'),\n",
        "    Flatten(),\n",
        "    Dense(10),\n",
        "    Activation('sigmoid')\n",
        "])"
      ],
      "execution_count": 0,
      "outputs": []
    },
    {
      "cell_type": "code",
      "metadata": {
        "id": "K3hr_E4HF2_0",
        "colab_type": "code",
        "colab": {
          "base_uri": "https://localhost:8080/",
          "height": 622
        },
        "outputId": "41fe88bd-2d68-47c0-8e39-aa24d36da2a4"
      },
      "source": [
        "base_network.summary()"
      ],
      "execution_count": 30,
      "outputs": [
        {
          "output_type": "stream",
          "text": [
            "Model: \"sequential_2\"\n",
            "_________________________________________________________________\n",
            "Layer (type)                 Output Shape              Param #   \n",
            "=================================================================\n",
            "conv2d_5 (Conv2D)            (None, 73, 73, 10)        280       \n",
            "_________________________________________________________________\n",
            "activation_6 (Activation)    (None, 73, 73, 10)        0         \n",
            "_________________________________________________________________\n",
            "max_pooling2d_4 (MaxPooling2 (None, 36, 36, 10)        0         \n",
            "_________________________________________________________________\n",
            "conv2d_6 (Conv2D)            (None, 34, 34, 10)        910       \n",
            "_________________________________________________________________\n",
            "activation_7 (Activation)    (None, 34, 34, 10)        0         \n",
            "_________________________________________________________________\n",
            "max_pooling2d_5 (MaxPooling2 (None, 17, 17, 10)        0         \n",
            "_________________________________________________________________\n",
            "conv2d_7 (Conv2D)            (None, 15, 15, 7)         637       \n",
            "_________________________________________________________________\n",
            "activation_8 (Activation)    (None, 15, 15, 7)         0         \n",
            "_________________________________________________________________\n",
            "max_pooling2d_6 (MaxPooling2 (None, 7, 7, 7)           0         \n",
            "_________________________________________________________________\n",
            "conv2d_8 (Conv2D)            (None, 5, 5, 7)           448       \n",
            "_________________________________________________________________\n",
            "activation_9 (Activation)    (None, 5, 5, 7)           0         \n",
            "_________________________________________________________________\n",
            "flatten_2 (Flatten)          (None, 175)               0         \n",
            "_________________________________________________________________\n",
            "dense_2 (Dense)              (None, 10)                1760      \n",
            "_________________________________________________________________\n",
            "activation_10 (Activation)   (None, 10)                0         \n",
            "=================================================================\n",
            "Total params: 4,035\n",
            "Trainable params: 4,035\n",
            "Non-trainable params: 0\n",
            "_________________________________________________________________\n"
          ],
          "name": "stdout"
        }
      ]
    },
    {
      "cell_type": "markdown",
      "metadata": {
        "id": "9RX87y3Gwena",
        "colab_type": "text"
      },
      "source": [
        "# Process the left and right inputs to the same Base Network(base_network)"
      ]
    },
    {
      "cell_type": "code",
      "metadata": {
        "id": "0KjeP42twenb",
        "colab_type": "code",
        "colab": {}
      },
      "source": [
        "processed_a = base_network(left_input)\n",
        "processed_b = base_network(right_input)"
      ],
      "execution_count": 0,
      "outputs": []
    },
    {
      "cell_type": "markdown",
      "metadata": {
        "id": "i_8oVymPwene",
        "colab_type": "text"
      },
      "source": [
        "# Get the L1 Distance layer between the 2 processed encodings (processed_a and processed_b)\n",
        "Hint - You can use Lambda function for this."
      ]
    },
    {
      "cell_type": "code",
      "metadata": {
        "id": "FOrGpAexwenf",
        "colab_type": "code",
        "colab": {}
      },
      "source": [
        "L1_layer = Lambda(lambda tensor:K.abs(tensor[0] - tensor[1]))\n",
        "\n",
        "# Add the distance function to the network\n",
        "L1_distance = L1_layer([processed_a, processed_b])"
      ],
      "execution_count": 0,
      "outputs": []
    },
    {
      "cell_type": "markdown",
      "metadata": {
        "id": "VyECoAI3weni",
        "colab_type": "text"
      },
      "source": [
        "# Add the prediction layer in the end and create the Siamese Network using Model function."
      ]
    },
    {
      "cell_type": "code",
      "metadata": {
        "id": "ZwiWNGgfwenj",
        "colab_type": "code",
        "colab": {}
      },
      "source": [
        "prediction = Dense(1,activation='sigmoid')(L1_distance)\n",
        "siamese_net = Model(inputs=[left_input,right_input],outputs=prediction)"
      ],
      "execution_count": 0,
      "outputs": []
    },
    {
      "cell_type": "markdown",
      "metadata": {
        "id": "eNwGqVo6wenk",
        "colab_type": "text"
      },
      "source": [
        "# Define the Optimizer Adam and Compile the Siamese Model."
      ]
    },
    {
      "cell_type": "code",
      "metadata": {
        "id": "wW_rDGlvwenl",
        "colab_type": "code",
        "colab": {
          "base_uri": "https://localhost:8080/",
          "height": 154
        },
        "outputId": "a80fccd9-370a-49d9-f929-52b0e0ba9f6d"
      },
      "source": [
        "optimizer = Adam(0.001, decay=2.5e-4)\n",
        "\n",
        "siamese_net.compile(loss=\"binary_crossentropy\",optimizer=optimizer,metrics=['accuracy'])"
      ],
      "execution_count": 34,
      "outputs": [
        {
          "output_type": "stream",
          "text": [
            "WARNING:tensorflow:From /usr/local/lib/python3.6/dist-packages/keras/optimizers.py:793: The name tf.train.Optimizer is deprecated. Please use tf.compat.v1.train.Optimizer instead.\n",
            "\n",
            "WARNING:tensorflow:From /usr/local/lib/python3.6/dist-packages/keras/backend/tensorflow_backend.py:3657: The name tf.log is deprecated. Please use tf.math.log instead.\n",
            "\n",
            "WARNING:tensorflow:From /usr/local/lib/python3.6/dist-packages/tensorflow_core/python/ops/nn_impl.py:183: where (from tensorflow.python.ops.array_ops) is deprecated and will be removed in a future version.\n",
            "Instructions for updating:\n",
            "Use tf.where in 2.0, which has the same broadcast rule as np.where\n"
          ],
          "name": "stdout"
        }
      ]
    },
    {
      "cell_type": "markdown",
      "metadata": {
        "_cell_guid": "dbba8e74-6b9c-4c84-96ed-55137265280b",
        "_uuid": "28e3843cae1a192bb14eb04cc1fe1705ef69f405",
        "id": "Z9WenCeNwenm",
        "colab_type": "text"
      },
      "source": [
        "# Show the Summary of your Siamese Network"
      ]
    },
    {
      "cell_type": "code",
      "metadata": {
        "id": "n5-uElpJwenn",
        "colab_type": "code",
        "colab": {
          "base_uri": "https://localhost:8080/",
          "height": 353
        },
        "outputId": "f464c3c7-3c95-47d3-fd8e-d2d0eff10a44"
      },
      "source": [
        "siamese_net.summary()"
      ],
      "execution_count": 35,
      "outputs": [
        {
          "output_type": "stream",
          "text": [
            "Model: \"model_1\"\n",
            "__________________________________________________________________________________________________\n",
            "Layer (type)                    Output Shape         Param #     Connected to                     \n",
            "==================================================================================================\n",
            "input_1 (InputLayer)            (None, 75, 75, 3)    0                                            \n",
            "__________________________________________________________________________________________________\n",
            "input_2 (InputLayer)            (None, 75, 75, 3)    0                                            \n",
            "__________________________________________________________________________________________________\n",
            "sequential_2 (Sequential)       (None, 10)           4035        input_1[0][0]                    \n",
            "                                                                 input_2[0][0]                    \n",
            "__________________________________________________________________________________________________\n",
            "lambda_1 (Lambda)               (None, 10)           0           sequential_2[1][0]               \n",
            "                                                                 sequential_2[2][0]               \n",
            "__________________________________________________________________________________________________\n",
            "dense_3 (Dense)                 (None, 1)            11          lambda_1[0][0]                   \n",
            "==================================================================================================\n",
            "Total params: 4,046\n",
            "Trainable params: 4,046\n",
            "Non-trainable params: 0\n",
            "__________________________________________________________________________________________________\n"
          ],
          "name": "stdout"
        }
      ]
    },
    {
      "cell_type": "markdown",
      "metadata": {
        "id": "07up3HAGweno",
        "colab_type": "text"
      },
      "source": [
        "# Creating the Pair of Images to train on"
      ]
    },
    {
      "cell_type": "markdown",
      "metadata": {
        "_cell_guid": "7080234f-01f4-4df1-88a7-459746335c50",
        "_uuid": "4553890c8130dc76076252a09290497a4afc27e6",
        "id": "mUYzjoUWwenp",
        "colab_type": "text"
      },
      "source": [
        "It's not time to train though. We still have to create pairs of images to train on. There will be Positive(the same class) or Negative(different classes) for outputs. Let's construct this dataset. It is recommended that there are equal amounts positive and negative."
      ]
    },
    {
      "cell_type": "code",
      "metadata": {
        "_cell_guid": "32cb30db-144d-4f93-af05-6cb9a697c084",
        "_uuid": "09a3e9d488acd34e99912c5f01474029e77637f5",
        "id": "lDkVRLERwenp",
        "colab_type": "code",
        "colab": {}
      },
      "source": [
        "# First let's separate the dataset from 1 matrix to a list of matricies\n",
        "image_list = np.split(X_train[:1000],1000)\n",
        "label_list = np.split(Y_train[:1000],1000)\n",
        "\n",
        "left_input = []\n",
        "right_input = []\n",
        "targets = []\n",
        "\n",
        "#Number of pairs per image\n",
        "pairs = 5\n",
        "#Let's create the new dataset to train on\n",
        "for i in range(len(label_list)):\n",
        "    for _ in range(pairs):\n",
        "        compare_to = i\n",
        "        while compare_to == i: #Make sure it's not comparing to itself\n",
        "            compare_to = random.randint(0,999)\n",
        "        left_input.append(image_list[i])\n",
        "        right_input.append(image_list[compare_to])\n",
        "        if label_list[i] == label_list[compare_to]:# They are the same\n",
        "            targets.append(1.)\n",
        "        else:# Not the same\n",
        "            targets.append(0.)\n",
        "            \n",
        "left_input = np.squeeze(np.array(left_input))\n",
        "right_input = np.squeeze(np.array(right_input))\n",
        "targets = np.squeeze(np.array(targets))\n",
        "\n",
        "iceimage = X_train[101]\n",
        "test_left = []\n",
        "test_right = []\n",
        "test_targets = []\n",
        "\n",
        "for i in range(Y_train.shape[0]-1000):\n",
        "    test_left.append(iceimage)\n",
        "    test_right.append(X_train[i+1000])\n",
        "    test_targets.append(Y_train[i+1000])\n",
        "\n",
        "test_left = np.squeeze(np.array(test_left))\n",
        "test_right = np.squeeze(np.array(test_right))\n",
        "test_targets = np.squeeze(np.array(test_targets))"
      ],
      "execution_count": 0,
      "outputs": []
    },
    {
      "cell_type": "code",
      "metadata": {
        "id": "k3R2pN7WHz9f",
        "colab_type": "code",
        "colab": {
          "base_uri": "https://localhost:8080/"
        },
        "outputId": "2150bec1-e374-40d7-a7d1-8aefbef4fd11"
      },
      "source": [
        "image_list.shape"
      ],
      "execution_count": 39,
      "outputs": [
        {
          "output_type": "error",
          "ename": "AttributeError",
          "evalue": "ignored",
          "traceback": [
            "\u001b[0;31m---------------------------------------------------------------------------\u001b[0m",
            "\u001b[0;31mAttributeError\u001b[0m                            Traceback (most recent call last)",
            "\u001b[0;32m<ipython-input-39-89b422156332>\u001b[0m in \u001b[0;36m<module>\u001b[0;34m()\u001b[0m\n\u001b[0;32m----> 1\u001b[0;31m \u001b[0mimage_list\u001b[0m\u001b[0;34m.\u001b[0m\u001b[0mshape\u001b[0m\u001b[0;34m\u001b[0m\u001b[0;34m\u001b[0m\u001b[0m\n\u001b[0m",
            "\u001b[0;31mAttributeError\u001b[0m: 'list' object has no attribute 'shape'"
          ]
        }
      ]
    },
    {
      "cell_type": "code",
      "metadata": {
        "id": "OrM71rrvJl2D",
        "colab_type": "code",
        "colab": {}
      },
      "source": [
        ""
      ],
      "execution_count": 0,
      "outputs": []
    },
    {
      "cell_type": "code",
      "metadata": {
        "id": "ZicZ9C6sH0AJ",
        "colab_type": "code",
        "colab": {}
      },
      "source": [
        ""
      ],
      "execution_count": 0,
      "outputs": []
    },
    {
      "cell_type": "code",
      "metadata": {
        "id": "BZXlPk-xH0DP",
        "colab_type": "code",
        "colab": {}
      },
      "source": [
        ""
      ],
      "execution_count": 0,
      "outputs": []
    },
    {
      "cell_type": "code",
      "metadata": {
        "id": "UgoGRUHqH0Gd",
        "colab_type": "code",
        "colab": {}
      },
      "source": [
        ""
      ],
      "execution_count": 0,
      "outputs": []
    },
    {
      "cell_type": "code",
      "metadata": {
        "id": "LRiuofqtH0Je",
        "colab_type": "code",
        "colab": {}
      },
      "source": [
        ""
      ],
      "execution_count": 0,
      "outputs": []
    },
    {
      "cell_type": "markdown",
      "metadata": {
        "id": "FTaVyJetwenr",
        "colab_type": "text"
      },
      "source": [
        "Now we have a lot more examples.\n",
        "Now we have pairs x 1000 examples to train the network on. \n",
        "Each side will have an input of an image and the output will be one if they are the same and zero if not."
      ]
    },
    {
      "cell_type": "markdown",
      "metadata": {
        "id": "umfpTTNqwens",
        "colab_type": "text"
      },
      "source": [
        "# Train the Siamese train on left and right input image pairs created and validate it by test pairs."
      ]
    },
    {
      "cell_type": "code",
      "metadata": {
        "id": "d-XNydQ5wens",
        "colab_type": "code",
        "colab": {
          "base_uri": "https://localhost:8080/",
          "height": 675
        },
        "outputId": "5958be3e-c29a-4018-8d08-99348f72b541"
      },
      "source": [
        "siamese_net.fit([left_input,right_input], targets,\n",
        "          batch_size=16,\n",
        "          epochs=10,\n",
        "          verbose=1,\n",
        "          validation_data=([test_left,test_right],test_targets))"
      ],
      "execution_count": 37,
      "outputs": [
        {
          "output_type": "stream",
          "text": [
            "WARNING:tensorflow:From /usr/local/lib/python3.6/dist-packages/keras/backend/tensorflow_backend.py:1033: The name tf.assign_add is deprecated. Please use tf.compat.v1.assign_add instead.\n",
            "\n",
            "WARNING:tensorflow:From /usr/local/lib/python3.6/dist-packages/keras/backend/tensorflow_backend.py:1020: The name tf.assign is deprecated. Please use tf.compat.v1.assign instead.\n",
            "\n",
            "WARNING:tensorflow:From /usr/local/lib/python3.6/dist-packages/keras/backend/tensorflow_backend.py:3005: The name tf.Session is deprecated. Please use tf.compat.v1.Session instead.\n",
            "\n",
            "Train on 5000 samples, validate on 3113 samples\n",
            "Epoch 1/10\n",
            "WARNING:tensorflow:From /usr/local/lib/python3.6/dist-packages/keras/backend/tensorflow_backend.py:190: The name tf.get_default_session is deprecated. Please use tf.compat.v1.get_default_session instead.\n",
            "\n",
            "WARNING:tensorflow:From /usr/local/lib/python3.6/dist-packages/keras/backend/tensorflow_backend.py:197: The name tf.ConfigProto is deprecated. Please use tf.compat.v1.ConfigProto instead.\n",
            "\n",
            "WARNING:tensorflow:From /usr/local/lib/python3.6/dist-packages/keras/backend/tensorflow_backend.py:207: The name tf.global_variables is deprecated. Please use tf.compat.v1.global_variables instead.\n",
            "\n",
            "WARNING:tensorflow:From /usr/local/lib/python3.6/dist-packages/keras/backend/tensorflow_backend.py:216: The name tf.is_variable_initialized is deprecated. Please use tf.compat.v1.is_variable_initialized instead.\n",
            "\n",
            "WARNING:tensorflow:From /usr/local/lib/python3.6/dist-packages/keras/backend/tensorflow_backend.py:223: The name tf.variables_initializer is deprecated. Please use tf.compat.v1.variables_initializer instead.\n",
            "\n",
            "5000/5000 [==============================] - 39s 8ms/step - loss: 0.6832 - acc: 0.5530 - val_loss: 0.7189 - val_acc: 0.4211\n",
            "Epoch 2/10\n",
            "5000/5000 [==============================] - 38s 8ms/step - loss: 0.6055 - acc: 0.6928 - val_loss: 0.7794 - val_acc: 0.4533\n",
            "Epoch 3/10\n",
            "5000/5000 [==============================] - 39s 8ms/step - loss: 0.5263 - acc: 0.7700 - val_loss: 0.8882 - val_acc: 0.2936\n",
            "Epoch 4/10\n",
            "5000/5000 [==============================] - 39s 8ms/step - loss: 0.4873 - acc: 0.7998 - val_loss: 0.7562 - val_acc: 0.4109\n",
            "Epoch 5/10\n",
            "5000/5000 [==============================] - 39s 8ms/step - loss: 0.4511 - acc: 0.8258 - val_loss: 0.5452 - val_acc: 0.8034\n",
            "Epoch 6/10\n",
            "5000/5000 [==============================] - 39s 8ms/step - loss: 0.4232 - acc: 0.8356 - val_loss: 0.4869 - val_acc: 0.8053\n",
            "Epoch 7/10\n",
            "5000/5000 [==============================] - 39s 8ms/step - loss: 0.4019 - acc: 0.8500 - val_loss: 0.4858 - val_acc: 0.7973\n",
            "Epoch 8/10\n",
            "5000/5000 [==============================] - 39s 8ms/step - loss: 0.3761 - acc: 0.8672 - val_loss: 0.6547 - val_acc: 0.6232\n",
            "Epoch 9/10\n",
            "5000/5000 [==============================] - 39s 8ms/step - loss: 0.3562 - acc: 0.8778 - val_loss: 0.5203 - val_acc: 0.7767\n",
            "Epoch 10/10\n",
            "5000/5000 [==============================] - 39s 8ms/step - loss: 0.3413 - acc: 0.8874 - val_loss: 0.5252 - val_acc: 0.7899\n"
          ],
          "name": "stdout"
        },
        {
          "output_type": "execute_result",
          "data": {
            "text/plain": [
              "<keras.callbacks.History at 0x7ff181182dd8>"
            ]
          },
          "metadata": {
            "tags": []
          },
          "execution_count": 37
        }
      ]
    },
    {
      "cell_type": "code",
      "metadata": {
        "id": "a3osuUK5wenu",
        "colab_type": "code",
        "colab": {}
      },
      "source": [
        ""
      ],
      "execution_count": 0,
      "outputs": []
    },
    {
      "cell_type": "code",
      "metadata": {
        "_uuid": "e572afcaaf7dc8632d813031ebd828d9eec0f9aa",
        "id": "S4vgg-7Swenv",
        "colab_type": "code",
        "colab": {}
      },
      "source": [
        ""
      ],
      "execution_count": 0,
      "outputs": []
    },
    {
      "cell_type": "code",
      "metadata": {
        "id": "9BgAHoeMweny",
        "colab_type": "code",
        "colab": {}
      },
      "source": [
        ""
      ],
      "execution_count": 0,
      "outputs": []
    },
    {
      "cell_type": "code",
      "metadata": {
        "id": "mmAxEpnswen0",
        "colab_type": "code",
        "colab": {}
      },
      "source": [
        ""
      ],
      "execution_count": 0,
      "outputs": []
    }
  ]
}